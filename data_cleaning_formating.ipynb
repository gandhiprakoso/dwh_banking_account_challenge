{
 "cells": [
  {
   "cell_type": "markdown",
   "metadata": {},
   "source": [
    "## 1. Library"
   ]
  },
  {
   "cell_type": "code",
   "execution_count": 1,
   "metadata": {},
   "outputs": [],
   "source": [
    "# import library\n",
    "import pandas as pd\n",
    "import json\n",
    "import os\n",
    "import datetime\n",
    "import numpy as np"
   ]
  },
  {
   "cell_type": "markdown",
   "metadata": {},
   "source": [
    "# 2. Table Format Initialization"
   ]
  },
  {
   "cell_type": "code",
   "execution_count": 2,
   "metadata": {},
   "outputs": [],
   "source": [
    "# initialized table format\n",
    "accounts_frm = {\n",
    "    'id' : [],\n",
    "    'op' : [],\n",
    "    'ts' : [],\n",
    "    'account_id' : [],\n",
    "    'name' : [],\n",
    "    'address' : [],\n",
    "    'phone_number' : [],\n",
    "    'email': [],\n",
    "    'savings_account_id': [],\n",
    "    'card_id': []\n",
    "}\n",
    "\n",
    "cards_frm = {\n",
    "    'id' : [],\n",
    "    'op' : [],\n",
    "    'ts' : [],\n",
    "    'card_id' : [],\n",
    "    'card_number' : [],\n",
    "    'credit_used' : [],\n",
    "    'monthly_limit' : [],\n",
    "    'status': []\n",
    "}\n",
    "\n",
    "savings_accounts_frm = {\n",
    "    'id' : [],\n",
    "    'op' : [],\n",
    "    'ts' : [],\n",
    "    'savings_account_id' : [],\n",
    "    'balance' : [],\n",
    "    'interest_rate_percent' : [],\n",
    "    'status': []\n",
    "}\n"
   ]
  },
  {
   "cell_type": "markdown",
   "metadata": {},
   "source": [
    "# 3. Function"
   ]
  },
  {
   "cell_type": "code",
   "execution_count": 3,
   "metadata": {},
   "outputs": [],
   "source": [
    "# initialized function\n",
    "\n",
    "def json_to_df(drc,tb_form) :\n",
    "    # list json file in directory and loop through all file \n",
    "    json_list = os.listdir(f'data/{drc}')\n",
    "\n",
    "    for dlist in json_list :\n",
    "        # open json file\n",
    "        with open(f'data/{drc}/{dlist}') as data_file:    \n",
    "            dta = json.load(data_file)  \n",
    "\n",
    "        # normalize loaded json data\n",
    "        ld_temp = {}\n",
    "        for key, value in dta.items() :\n",
    "            if type(value) is dict : # handling for dictionary type\n",
    "                dtc = value\n",
    "                for key, value in dtc.items() :\n",
    "                    ld_temp[key] = value\n",
    "            \n",
    "            else :\n",
    "                if key == 'ts' :    \n",
    "                    ld_temp[key] = datetime.datetime.fromtimestamp(int(str(value)[:-3])) # handling for integer type, convert to timestamp type\n",
    "                else :\n",
    "                    ld_temp[key] = value\n",
    "        \n",
    "        ld_temp_len = len(ld_temp.keys()) # max count check if no keys found between account_frm & ld_temp\n",
    "\n",
    "        # looping for account_frm & ld_temp\n",
    "        for key1, value1 in tb_form.items():\n",
    "            ct_nf = 0 # initialize count check\n",
    "            for key2, value2 in ld_temp.items():\n",
    "                if key1 == key2 :\n",
    "                    if value2 == '' :\n",
    "                        tb_form[key1].append('')\n",
    "                    else :\n",
    "                        tb_form[key1].append(value2)\n",
    "                    break\n",
    "                \n",
    "                else :\n",
    "                    ct_nf = ct_nf + 1\n",
    "                        \n",
    "                if ct_nf == ld_temp_len :\n",
    "                    tb_form[key1].append('') #if no keys found, add '' instead null\n",
    "\n",
    "    jdf = pd.DataFrame(tb_form)\n",
    "    \n",
    "    return jdf\n",
    "\n",
    "def join_tbl(tb_acc, tb_crd, tb_sac) :\n",
    "\n",
    "    # added id for each table to each row\n",
    "    tb_acc['account_id'] = tb_acc['id'].str[:2]\n",
    "    tb_crd['card_id'] = tb_crd['id'].str[:2]\n",
    "    tb_sac['savings_account_id'] = tb_sac['id'].str[:3]\n",
    "\n",
    "    # simplify accounts table for join later\n",
    "    temp_acc = tb_acc[['account_id','savings_account_id','card_id']]\n",
    "    acc_join = temp_acc.query('savings_account_id != \"\" or card_id != \"\" ') # exclude row without savings_account_id or card_id\n",
    "  \n",
    "    # simplify cards table for join later\n",
    "    temp_crd = tb_crd[['card_id','ts','credit_used']]\n",
    "    crd_join = temp_crd.query('credit_used != \"\"') # exclude row without credit_used\n",
    "\n",
    "    # simplify savings_accounts table for join later\n",
    "    temp_sac = tb_sac[['savings_account_id','ts','balance']]\n",
    "    sac_join = temp_sac.query('balance != \"\"') # exclude row without balance\n",
    "\n",
    "    # join accounts with savings_accounts then join with cards\n",
    "    temp_join = pd.merge(acc_join, sac_join, how = 'left', on = 'savings_account_id')\n",
    "    all_join = pd.merge(temp_join, crd_join, how = 'left', on = 'card_id')\n",
    "\n",
    "    # rename column for timestamp from cards & savings_accounts\n",
    "    all_join.rename(columns = {'ts_x':'balance_timestamp','ts_y':'credit_used_timestamp'}, inplace = True)\n",
    "\n",
    "    return all_join"
   ]
  },
  {
   "cell_type": "markdown",
   "metadata": {},
   "source": [
    "# 4. JSON Conversion to Dataframe"
   ]
  },
  {
   "cell_type": "code",
   "execution_count": 4,
   "metadata": {},
   "outputs": [
    {
     "name": "stdout",
     "output_type": "stream",
     "text": [
      "           id op                  ts account_id     name   address  \\\n",
      "0  a1globalid  c 2020-01-01 14:30:00         a1  Anthony  New York   \n",
      "1  a1globalid  u 2020-01-01 15:00:00                                 \n",
      "2  a1globalid  u 2020-01-01 22:00:00                                 \n",
      "3  a1globalid  u 2020-01-01 23:00:00                       Jakarta   \n",
      "4  a1globalid  u 2020-01-02 08:00:00                                 \n",
      "5  a1globalid  u 2020-01-15 16:01:00                                 \n",
      "6  a1globalid  u 2020-01-16 15:30:00                                 \n",
      "\n",
      "  phone_number                    email savings_account_id card_id  \n",
      "0     12345678     anthony@somebank.com                             \n",
      "1     87654321                                                      \n",
      "2                                                      sa1          \n",
      "3               anthony@anotherbank.com                             \n",
      "4                                                               c1  \n",
      "5                                                                   \n",
      "6                                                               c2  \n"
     ]
    }
   ],
   "source": [
    "# json conversion to dataframe for accounts\n",
    "accounts_df = json_to_df('accounts',accounts_frm)\n",
    "\n",
    "print(accounts_df)"
   ]
  },
  {
   "cell_type": "code",
   "execution_count": 5,
   "metadata": {},
   "outputs": [
    {
     "name": "stdout",
     "output_type": "stream",
     "text": [
      "           id op                  ts card_id card_number credit_used  \\\n",
      "0  c1globalid  c 2020-01-02 08:00:00      c1    11112222           0   \n",
      "1  c1globalid  u 2020-01-05 00:30:00                                   \n",
      "2  c1globalid  u 2020-01-06 19:30:00                           12000   \n",
      "3  c1globalid  u 2020-01-08 01:00:00                           19000   \n",
      "4  c1globalid  u 2020-01-10 18:00:00                               0   \n",
      "5  c1globalid  u 2020-01-15 16:00:00                                   \n",
      "6  c2globalid  c 2020-01-16 15:30:00      c2    12123434           0   \n",
      "7  c2globalid  u 2020-01-18 05:00:00                                   \n",
      "8  c2globalid  u 2020-01-18 22:30:00                           37000   \n",
      "\n",
      "  monthly_limit   status  \n",
      "0         30000  PENDING  \n",
      "1                 ACTIVE  \n",
      "2                         \n",
      "3                         \n",
      "4                         \n",
      "5                 CLOSED  \n",
      "6         70000  PENDING  \n",
      "7                 ACTIVE  \n",
      "8                         \n"
     ]
    }
   ],
   "source": [
    "# json conversion to dataframe for cards\n",
    "cards_df = json_to_df('cards',cards_frm)\n",
    "\n",
    "print(cards_df)"
   ]
  },
  {
   "cell_type": "code",
   "execution_count": 6,
   "metadata": {},
   "outputs": [
    {
     "name": "stdout",
     "output_type": "stream",
     "text": [
      "            id op                  ts savings_account_id balance  \\\n",
      "0  sa1globalid  c 2020-01-01 22:00:00                sa1       0   \n",
      "1  sa1globalid  u 2020-01-02 16:00:00                      15000   \n",
      "2  sa1globalid  u 2020-01-05 00:31:00                              \n",
      "3  sa1globalid  u 2020-01-10 16:30:00                      40000   \n",
      "4  sa1globalid  u 2020-01-10 18:00:00                      21000   \n",
      "5  sa1globalid  u 2020-01-15 16:01:00                              \n",
      "6  sa1globalid  u 2020-01-18 05:01:00                              \n",
      "7  sa1globalid  u 2020-01-20 14:30:00                      33000   \n",
      "\n",
      "  interest_rate_percent  status  \n",
      "0                   1.5  ACTIVE  \n",
      "1                                \n",
      "2                   3.0          \n",
      "3                                \n",
      "4                                \n",
      "5                   1.5          \n",
      "6                   4.0          \n",
      "7                                \n"
     ]
    }
   ],
   "source": [
    "# json conversion to dataframe for savings_accounts\n",
    "savings_accounts_df = json_to_df('savings_accounts',savings_accounts_frm)\n",
    "\n",
    "print(savings_accounts_df)"
   ]
  },
  {
   "cell_type": "markdown",
   "metadata": {},
   "source": [
    "# 5. Dataframe Join"
   ]
  },
  {
   "cell_type": "code",
   "execution_count": 7,
   "metadata": {},
   "outputs": [],
   "source": [
    "# join three table\n",
    "denorm_table = join_tbl(accounts_df,cards_df,savings_accounts_df)"
   ]
  },
  {
   "cell_type": "code",
   "execution_count": 8,
   "metadata": {},
   "outputs": [
    {
     "name": "stdout",
     "output_type": "stream",
     "text": [
      "   account_id savings_account_id card_id   balance_timestamp balance  \\\n",
      "0          a1                sa1         2020-01-01 22:00:00       0   \n",
      "1          a1                sa1         2020-01-02 16:00:00   15000   \n",
      "2          a1                sa1         2020-01-10 16:30:00   40000   \n",
      "3          a1                sa1         2020-01-10 18:00:00   21000   \n",
      "4          a1                sa1         2020-01-20 14:30:00   33000   \n",
      "5          a1                         c1                 NaT     NaN   \n",
      "6          a1                         c1                 NaT     NaN   \n",
      "7          a1                         c1                 NaT     NaN   \n",
      "8          a1                         c1                 NaT     NaN   \n",
      "9          a1                         c2                 NaT     NaN   \n",
      "10         a1                         c2                 NaT     NaN   \n",
      "\n",
      "   credit_used_timestamp credit_used  \n",
      "0                    NaT         NaN  \n",
      "1                    NaT         NaN  \n",
      "2                    NaT         NaN  \n",
      "3                    NaT         NaN  \n",
      "4                    NaT         NaN  \n",
      "5    2020-01-02 08:00:00           0  \n",
      "6    2020-01-06 19:30:00       12000  \n",
      "7    2020-01-08 01:00:00       19000  \n",
      "8    2020-01-10 18:00:00           0  \n",
      "9    2020-01-16 15:30:00           0  \n",
      "10   2020-01-18 22:30:00       37000  \n"
     ]
    }
   ],
   "source": [
    "# print the result\n",
    "print(denorm_table)"
   ]
  },
  {
   "cell_type": "markdown",
   "metadata": {},
   "source": [
    "### From the joined table above, we can conclude that :\n",
    "\n",
    "#### 1. account_id a1 has 1 savings_account_id & 2 card_id (c1 has already closed on 2020-01-10 and new card, c2, start active on 2020-01-18)\n",
    "#### 2. There are total of 8 transactions happening in account_id a1. The details are :\n",
    "#####  a. 4 from sa1, occured in January 2 (increased by 15000), 10 (increased by 25000, decreased by 19000) , and 20 (increased by 12000)\n",
    "#####  b. 3 from c1, occured in January 6 (increased by 12000), 8 (increased by 7000), and 10 (decreased by 19000)\n",
    "#####  c. 1 from c2, occured in January 18 (increased by 37000)"
   ]
  }
 ],
 "metadata": {
  "kernelspec": {
   "display_name": "Python 3",
   "language": "python",
   "name": "python3"
  },
  "language_info": {
   "codemirror_mode": {
    "name": "ipython",
    "version": 3
   },
   "file_extension": ".py",
   "mimetype": "text/x-python",
   "name": "python",
   "nbconvert_exporter": "python",
   "pygments_lexer": "ipython3",
   "version": "3.11.4"
  }
 },
 "nbformat": 4,
 "nbformat_minor": 2
}
